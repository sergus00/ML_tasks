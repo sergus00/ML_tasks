{
 "cells": [
  {
   "cell_type": "markdown",
   "metadata": {},
   "source": [
    "# Метод главных компонент"
   ]
  },
  {
   "cell_type": "markdown",
   "metadata": {},
   "source": [
    "### Алгоритм PCA\n",
    "\n",
    "Дана матрица данных $D$ и коэффициент $\\alpha$:\n",
    "1. вычисляем среднее значение $\\mu = \\frac{1}{n} \\sum \\limits_{i=1}^{n} x_i$;\n",
    "2. центруем матрицу данных $Z = D - 1 \\cdot \\mu^T$;\n",
    "3. вычисляем матрицу ковариаций $K = \\frac{1}{n} (Z^T Z)$;\n",
    "4. вычисляем собственные значения $(\\lambda_1, \\lambda_2, \\ldots, \\lambda_d)$;\n",
    "5. вычисляем собственные векторы $U = (u_1 u_2 \\ldots u_d)$;\n",
    "6. вычисляем долю общей дисперсии $f(r) = \\frac{\\sum_{i=1}^{r} \\lambda_i} {\\sum_{i=1}^{n} \\lambda_i}$;\n",
    "7. выбираем наименьший $r$ так, чтобы $f(r) \\geq \\alpha$;\n",
    "8. выбираем $r$ первых векторов $U = (u_1 u_2 \\ldots u_r)$;\n",
    "9. уменьшаем признаковое пространство: $A = \\{ a_i \\: | \\: a_i = U_r^T x_i, \\: для \\: i = 1, \\ldots, n \\} $\n",
    "\n",
    "Реализуйте алгоритм для первых двух главных компонент. Найдите $\\lambda_1$, $\\lambda_2$ и $u_1$, $u_2$. Спроецируйте данные на плоскость образуемую этими векторами, визуализируйте полученные результаты c метками классов. Сравните реузльтаты с методом PCA из библиотеки sklearn.decomposition.\n",
    "\n",
    "В качестве данных возьмите изображения с рукописными цифрами."
   ]
  },
  {
   "cell_type": "code",
   "execution_count": 122,
   "metadata": {},
   "outputs": [],
   "source": [
    "import numpy as np\n",
    "from sklearn.decomposition import PCA\n",
    "import matplotlib.pyplot as plt\n",
    "from sklearn.datasets import load_iris, load_digits\n",
    "%matplotlib inline\n",
    "\n",
    "data = load_iris()\n",
    "#data = load_digits()\n",
    "x, y = data['data'], data['target']"
   ]
  },
  {
   "cell_type": "code",
   "execution_count": 152,
   "metadata": {},
   "outputs": [],
   "source": [
    "def _PCA(x, a):\n",
    "    n = x.shape[1]\n",
    "    mu = np.mean(x, axis = 0)\n",
    "    Z = x - mu.transpose()\n",
    "    K = np.true_divide(np.dot(Z.transpose(), Z), n)\n",
    "    eigenvalues, U = np.linalg.eig(K)\n",
    "    sum_eigval = np.sum(eigenvalues)\n",
    "    r = float('inf')\n",
    "    for i in reversed(range(n)):\n",
    "        f = np.sum(eigenvalues[:i]) / sum_eigval\n",
    "        if(f >= a and i < r):     \n",
    "            r = i\n",
    "        if(f < a):\n",
    "            break\n",
    "    Ur = U[:,:r]\n",
    "    Ur[:,1] *= -1 \n",
    "    return np.dot(Z, Ur)"
   ]
  },
  {
   "cell_type": "code",
   "execution_count": 153,
   "metadata": {},
   "outputs": [
    {
     "name": "stdout",
     "output_type": "stream",
     "text": [
      "[[-2.68420713  0.32660731]\n",
      " [-2.71539062 -0.16955685]\n",
      " [-2.88981954 -0.13734561]\n",
      " [-2.7464372  -0.31112432]\n",
      " [-2.72859298  0.33392456]\n",
      " [-2.27989736  0.74778271]\n",
      " [-2.82089068 -0.08210451]\n",
      " [-2.62648199  0.17040535]\n",
      " [-2.88795857 -0.57079803]\n",
      " [-2.67384469 -0.1066917 ]\n",
      " [-2.50652679  0.65193501]\n",
      " [-2.61314272  0.02152063]\n",
      " [-2.78743398 -0.22774019]\n",
      " [-3.22520045 -0.50327991]\n",
      " [-2.64354322  1.1861949 ]\n",
      " [-2.38386932  1.34475434]\n",
      " [-2.6225262   0.81808967]\n",
      " [-2.64832273  0.31913667]\n",
      " [-2.19907796  0.87924409]\n",
      " [-2.58734619  0.52047364]\n",
      " [-2.3105317   0.39786782]\n",
      " [-2.54323491  0.44003175]\n",
      " [-3.21585769  0.14161557]\n",
      " [-2.30312854  0.10552268]\n",
      " [-2.35617109 -0.03120959]\n",
      " [-2.50791723 -0.13905634]\n",
      " [-2.469056    0.13788731]\n",
      " [-2.56239095  0.37468456]\n",
      " [-2.63982127  0.31929007]\n",
      " [-2.63284791 -0.19007583]\n",
      " [-2.58846205 -0.19739308]\n",
      " [-2.41007734  0.41808001]\n",
      " [-2.64763667  0.81998263]\n",
      " [-2.59715948  1.10002193]\n",
      " [-2.67384469 -0.1066917 ]\n",
      " [-2.86699985  0.0771931 ]\n",
      " [-2.62522846  0.60680001]\n",
      " [-2.67384469 -0.1066917 ]\n",
      " [-2.98184266 -0.48025005]\n",
      " [-2.59032303  0.23605934]\n",
      " [-2.77013891  0.27105942]\n",
      " [-2.85221108 -0.93286537]\n",
      " [-2.99829644 -0.33430757]\n",
      " [-2.4055141   0.19591726]\n",
      " [-2.20883295  0.44269603]\n",
      " [-2.71566519 -0.24268148]\n",
      " [-2.53757337  0.51036755]\n",
      " [-2.8403213  -0.22057634]\n",
      " [-2.54268576  0.58628103]\n",
      " [-2.70391231  0.11501085]\n",
      " [ 1.28479459  0.68543919]\n",
      " [ 0.93241075  0.31919809]\n",
      " [ 1.46406132  0.50418983]\n",
      " [ 0.18096721 -0.82560394]\n",
      " [ 1.08713449  0.07539039]\n",
      " [ 0.64043675 -0.41732348]\n",
      " [ 1.09522371  0.28389121]\n",
      " [-0.75146714 -1.00110751]\n",
      " [ 1.04329778  0.22895691]\n",
      " [-0.01019007 -0.72057487]\n",
      " [-0.5110862  -1.26249195]\n",
      " [ 0.51109806 -0.10228411]\n",
      " [ 0.26233576 -0.5478933 ]\n",
      " [ 0.98404455 -0.12436042]\n",
      " [-0.174864   -0.25181557]\n",
      " [ 0.92757294  0.46823621]\n",
      " [ 0.65959279 -0.35197629]\n",
      " [ 0.23454059 -0.33192183]\n",
      " [ 0.94236171 -0.54182226]\n",
      " [ 0.0432464  -0.58148945]\n",
      " [ 1.11624072 -0.08421401]\n",
      " [ 0.35678657 -0.06682383]\n",
      " [ 1.29646885 -0.32756152]\n",
      " [ 0.92050265 -0.18239036]\n",
      " [ 0.71400821  0.15037915]\n",
      " [ 0.89964086  0.32961098]\n",
      " [ 1.33104142  0.24466952]\n",
      " [ 1.55739627  0.26739258]\n",
      " [ 0.81245555 -0.16233157]\n",
      " [-0.30733476 -0.36508661]\n",
      " [-0.07034289 -0.70253793]\n",
      " [-0.19188449 -0.67749054]\n",
      " [ 0.13499495 -0.31170964]\n",
      " [ 1.37873698 -0.42120514]\n",
      " [ 0.58727485 -0.48328427]\n",
      " [ 0.8072055   0.19505396]\n",
      " [ 1.22042897  0.40803534]\n",
      " [ 0.81286779 -0.370679  ]\n",
      " [ 0.24519516 -0.26672804]\n",
      " [ 0.16451343 -0.67966147]\n",
      " [ 0.46303099 -0.66952655]\n",
      " [ 0.89016045 -0.03381244]\n",
      " [ 0.22887905 -0.40225762]\n",
      " [-0.70708128 -1.00842476]\n",
      " [ 0.35553304 -0.50321849]\n",
      " [ 0.33112695 -0.21118014]\n",
      " [ 0.37523823 -0.29162202]\n",
      " [ 0.64169028  0.01907118]\n",
      " [-0.90846333 -0.75156873]\n",
      " [ 0.29780791 -0.34701652]\n",
      " [ 2.53172698 -0.01184224]\n",
      " [ 1.41407223 -0.57492506]\n",
      " [ 2.61648461  0.34193529]\n",
      " [ 1.97081495 -0.18112569]\n",
      " [ 2.34975798 -0.04188255]\n",
      " [ 3.39687992  0.54716805]\n",
      " [ 0.51938325 -1.19135169]\n",
      " [ 2.9320051   0.35237701]\n",
      " [ 2.31967279 -0.24554817]\n",
      " [ 2.91813423  0.78038063]\n",
      " [ 1.66193495  0.2420384 ]\n",
      " [ 1.80234045 -0.21615461]\n",
      " [ 2.16537886  0.21528028]\n",
      " [ 1.34459422 -0.77641543]\n",
      " [ 1.5852673  -0.53930705]\n",
      " [ 1.90474358  0.11881899]\n",
      " [ 1.94924878  0.04073026]\n",
      " [ 3.48876538  1.17154454]\n",
      " [ 3.79468686  0.25326557]\n",
      " [ 1.29832982 -0.76101394]\n",
      " [ 2.42816726  0.37678197]\n",
      " [ 1.19809737 -0.60557896]\n",
      " [ 3.49926548  0.45677347]\n",
      " [ 1.38766825 -0.20403099]\n",
      " [ 2.27585365  0.33338653]\n",
      " [ 2.61419383  0.55836695]\n",
      " [ 1.25762518 -0.179137  ]\n",
      " [ 1.29066965 -0.11642525]\n",
      " [ 2.12285398 -0.21085488]\n",
      " [ 2.3875644   0.46251925]\n",
      " [ 2.84096093  0.37274259]\n",
      " [ 3.2323429   1.37052404]\n",
      " [ 2.15873837 -0.21832553]\n",
      " [ 1.4431026  -0.14380129]\n",
      " [ 1.77964011 -0.50146479]\n",
      " [ 3.07652162  0.68576444]\n",
      " [ 2.14498686  0.13890661]\n",
      " [ 1.90486293  0.04804751]\n",
      " [ 1.16885347 -0.1645025 ]\n",
      " [ 2.10765373  0.37148225]\n",
      " [ 2.31430339  0.18260885]\n",
      " [ 1.92245088  0.40927118]\n",
      " [ 1.41407223 -0.57492506]\n",
      " [ 2.56332271  0.2759745 ]\n",
      " [ 2.41939122  0.30350394]\n",
      " [ 1.94401705  0.18741522]\n",
      " [ 1.52566363 -0.37502085]\n",
      " [ 1.76404594  0.07851919]\n",
      " [ 1.90162908  0.11587675]\n",
      " [ 1.38966613 -0.28288671]]\n"
     ]
    },
    {
     "data": {
      "text/plain": [
       "<Figure size 360x7200 with 0 Axes>"
      ]
     },
     "execution_count": 153,
     "metadata": {},
     "output_type": "execute_result"
    },
    {
     "data": {
      "text/plain": [
       "<Figure size 360x7200 with 0 Axes>"
      ]
     },
     "metadata": {},
     "output_type": "display_data"
    }
   ],
   "source": [
    "#print(x[5,5].reshape((2,2)))\n",
    "#values, pc = _PCA(x[1,:].reshape((2,2)),1)\n",
    "\n",
    "res = _PCA(x, 0.95)\n",
    "print(res)\n",
    "plt.figure(figsize=(5,100))\n",
    "#plt.imshow(res)\n",
    "\n",
    "#plt.imshow(pc[0].reshape((8,8)))\n",
    "#print(pc)\n",
    "#plt.imshow(pc)"
   ]
  },
  {
   "cell_type": "code",
   "execution_count": 156,
   "metadata": {},
   "outputs": [
    {
     "data": {
      "text/plain": [
       "<matplotlib.collections.PathCollection at 0x1159ce9ccf8>"
      ]
     },
     "execution_count": 156,
     "metadata": {},
     "output_type": "execute_result"
    },
    {
     "data": {
      "image/png": "[encoded data removed]",
      "text/plain": [
       "<Figure size 432x288 with 1 Axes>"
      ]
     },
     "metadata": {
      "needs_background": "light"
     },
     "output_type": "display_data"
    }
   ],
   "source": [
    "res.transpose()\n",
    "plt.scatter(res[:,0],res[:,1],c=y)"
   ]
  },
  {
   "cell_type": "code",
   "execution_count": 160,
   "metadata": {},
   "outputs": [
    {
     "data": {
      "text/plain": [
       "<matplotlib.collections.PathCollection at 0x1159ca3ec50>"
      ]
     },
     "execution_count": 160,
     "metadata": {},
     "output_type": "execute_result"
    },
    {
     "data": {
      "image/png": "[encoded data removed]",
      "text/plain": [
       "<Figure size 432x288 with 1 Axes>"
      ]
     },
     "metadata": {
      "needs_background": "light"
     },
     "output_type": "display_data"
    }
   ],
   "source": [
    "pca = PCA(n_components=2)\n",
    "xx = pca.fit_transform(x)\n",
    "#plt.figure(figsize=(5,100))\n",
    "#plt.imshow(xx)\n",
    "plt.scatter(xx[0],xx[1])"
   ]
  },
  {
   "cell_type": "code",
   "execution_count": 159,
   "metadata": {},
   "outputs": [
    {
     "name": "stdout",
     "output_type": "stream",
     "text": [
      "[[ 1.33226763e-15 -6.66133815e-16]\n",
      " [ 8.88178420e-16  3.88578059e-16]\n",
      " [-4.44089210e-16  4.71844785e-16]\n",
      " [ 0.00000000e+00  4.99600361e-16]\n",
      " [ 4.44089210e-16  1.22124533e-15]\n",
      " [-4.44089210e-16  1.11022302e-15]\n",
      " [-4.44089210e-16  9.99200722e-16]\n",
      " [ 0.00000000e+00  8.60422844e-16]\n",
      " [ 4.44089210e-16  3.33066907e-16]\n",
      " [ 0.00000000e+00  3.88578059e-16]\n",
      " [-8.88178420e-16  8.88178420e-16]\n",
      " [ 0.00000000e+00  1.06165077e-15]\n",
      " [ 4.44089210e-16  1.11022302e-16]\n",
      " [ 4.44089210e-16  3.33066907e-16]\n",
      " [-8.88178420e-16  8.88178420e-16]\n",
      " [-8.88178420e-16  1.77635684e-15]\n",
      " [-4.44089210e-16  6.66133815e-16]\n",
      " [-4.44089210e-16  6.66133815e-16]\n",
      " [ 0.00000000e+00  8.88178420e-16]\n",
      " [-4.44089210e-16  1.44328993e-15]\n",
      " [ 0.00000000e+00  4.44089210e-16]\n",
      " [ 0.00000000e+00  1.05471187e-15]\n",
      " [ 4.44089210e-16  1.19348975e-15]\n",
      " [-4.44089210e-16  2.35922393e-16]\n",
      " [ 4.44089210e-16  1.36002321e-15]\n",
      " [ 0.00000000e+00  0.00000000e+00]\n",
      " [ 0.00000000e+00  6.93889390e-16]\n",
      " [ 0.00000000e+00  7.77156117e-16]\n",
      " [ 0.00000000e+00  4.44089210e-16]\n",
      " [ 4.44089210e-16  6.66133815e-16]\n",
      " [ 0.00000000e+00  4.16333634e-16]\n",
      " [-4.44089210e-16  5.55111512e-17]\n",
      " [ 0.00000000e+00  2.33146835e-15]\n",
      " [-4.44089210e-16  2.22044605e-15]\n",
      " [ 0.00000000e+00  3.88578059e-16]\n",
      " [ 4.44089210e-16  8.32667268e-17]\n",
      " [ 0.00000000e+00  2.22044605e-16]\n",
      " [ 0.00000000e+00  3.88578059e-16]\n",
      " [ 0.00000000e+00  4.44089210e-16]\n",
      " [-4.44089210e-16  6.38378239e-16]\n",
      " [ 0.00000000e+00  7.77156117e-16]\n",
      " [ 4.44089210e-16 -1.44328993e-15]\n",
      " [ 0.00000000e+00  8.88178420e-16]\n",
      " [ 4.44089210e-16  7.21644966e-16]\n",
      " [-4.44089210e-16  1.60982339e-15]\n",
      " [ 4.44089210e-16 -1.38777878e-16]\n",
      " [-4.44089210e-16  1.66533454e-15]\n",
      " [ 0.00000000e+00  7.49400542e-16]\n",
      " [-4.44089210e-16  9.99200722e-16]\n",
      " [ 4.44089210e-16  4.44089210e-16]\n",
      " [-6.66133815e-16 -3.33066907e-16]\n",
      " [-3.33066907e-16  5.55111512e-17]\n",
      " [-4.44089210e-16 -4.44089210e-16]\n",
      " [ 4.71844785e-16 -1.11022302e-15]\n",
      " [-4.44089210e-16 -9.15933995e-16]\n",
      " [ 1.11022302e-16  1.66533454e-16]\n",
      " [ 0.00000000e+00  4.99600361e-16]\n",
      " [ 1.11022302e-16 -6.66133815e-16]\n",
      " [ 0.00000000e+00 -6.10622664e-16]\n",
      " [ 3.33066907e-16 -1.11022302e-16]\n",
      " [ 5.55111512e-16 -1.55431223e-15]\n",
      " [ 1.11022302e-16 -1.11022302e-16]\n",
      " [ 0.00000000e+00 -1.44328993e-15]\n",
      " [ 0.00000000e+00  2.77555756e-17]\n",
      " [ 1.11022302e-16 -3.33066907e-16]\n",
      " [-4.44089210e-16 -5.55111512e-16]\n",
      " [ 0.00000000e+00  5.55111512e-16]\n",
      " [ 1.38777878e-16 -1.66533454e-16]\n",
      " [ 1.11022302e-16 -1.77635684e-15]\n",
      " [ 2.08166817e-16 -6.66133815e-16]\n",
      " [-2.22044605e-16  5.27355937e-16]\n",
      " [ 1.11022302e-16 -7.63278329e-16]\n",
      " [ 2.22044605e-16 -1.11022302e-15]\n",
      " [ 1.11022302e-16  2.77555756e-17]\n",
      " [ 0.00000000e+00 -6.10622664e-16]\n",
      " [ 0.00000000e+00 -6.66133815e-16]\n",
      " [-6.66133815e-16 -8.60422844e-16]\n",
      " [-4.44089210e-16 -6.10622664e-16]\n",
      " [ 0.00000000e+00 -1.66533454e-16]\n",
      " [ 5.55111512e-17 -7.21644966e-16]\n",
      " [ 4.44089210e-16 -9.99200722e-16]\n",
      " [ 4.71844785e-16 -8.88178420e-16]\n",
      " [ 1.66533454e-16 -5.55111512e-16]\n",
      " [ 0.00000000e+00 -1.66533454e-16]\n",
      " [ 1.11022302e-16  6.66133815e-16]\n",
      " [ 0.00000000e+00  8.60422844e-16]\n",
      " [-2.22044605e-16 -4.44089210e-16]\n",
      " [-2.22044605e-16 -1.72084569e-15]\n",
      " [-1.11022302e-16  3.88578059e-16]\n",
      " [ 3.05311332e-16 -8.88178420e-16]\n",
      " [ 0.00000000e+00  2.22044605e-16]\n",
      " [-1.11022302e-16  1.52655666e-16]\n",
      " [ 1.94289029e-16 -7.77156117e-16]\n",
      " [ 5.55111512e-16 -8.88178420e-16]\n",
      " [ 2.22044605e-16 -2.22044605e-16]\n",
      " [ 5.55111512e-17  4.99600361e-16]\n",
      " [ 2.22044605e-16  5.55111512e-17]\n",
      " [-1.11022302e-16 -3.50414142e-16]\n",
      " [ 2.22044605e-16 -9.99200722e-16]\n",
      " [ 1.11022302e-16 -1.66533454e-16]\n",
      " [ 4.44089210e-16  6.66133815e-16]\n",
      " [ 2.22044605e-16 -3.33066907e-16]\n",
      " [ 0.00000000e+00 -6.10622664e-16]\n",
      " [ 0.00000000e+00  1.66533454e-16]\n",
      " [ 0.00000000e+00 -9.02056208e-17]\n",
      " [ 4.44089210e-16 -5.55111512e-16]\n",
      " [ 1.11022302e-16  0.00000000e+00]\n",
      " [ 4.44089210e-16 -2.77555756e-16]\n",
      " [ 4.44089210e-16 -1.08246745e-15]\n",
      " [ 0.00000000e+00  5.55111512e-16]\n",
      " [ 2.22044605e-16 -8.32667268e-17]\n",
      " [ 0.00000000e+00 -7.49400542e-16]\n",
      " [ 0.00000000e+00 -6.38378239e-16]\n",
      " [ 2.22044605e-16 -8.88178420e-16]\n",
      " [ 2.22044605e-16 -6.66133815e-16]\n",
      " [ 0.00000000e+00 -1.52655666e-16]\n",
      " [ 2.22044605e-16  8.32667268e-17]\n",
      " [-1.33226763e-15  1.33226763e-15]\n",
      " [-4.44089210e-16 -1.16573418e-15]\n",
      " [ 2.22044605e-16 -1.11022302e-15]\n",
      " [-4.44089210e-16 -3.33066907e-16]\n",
      " [ 2.22044605e-16 -2.22044605e-16]\n",
      " [-8.88178420e-16 -6.10622664e-16]\n",
      " [ 0.00000000e+00 -9.15933995e-16]\n",
      " [-4.44089210e-16  2.22044605e-16]\n",
      " [-4.44089210e-16  1.11022302e-16]\n",
      " [ 0.00000000e+00 -6.93889390e-16]\n",
      " [ 0.00000000e+00 -5.55111512e-17]\n",
      " [ 0.00000000e+00 -4.99600361e-16]\n",
      " [ 0.00000000e+00 -1.66533454e-16]\n",
      " [ 0.00000000e+00 -8.88178420e-16]\n",
      " [-4.44089210e-16  8.88178420e-16]\n",
      " [ 0.00000000e+00 -5.55111512e-16]\n",
      " [-2.22044605e-16 -1.38777878e-16]\n",
      " [ 4.44089210e-16  2.22044605e-16]\n",
      " [-4.44089210e-16 -1.11022302e-15]\n",
      " [-4.44089210e-16  5.82867088e-16]\n",
      " [-2.22044605e-16  4.30211422e-16]\n",
      " [ 4.44089210e-16 -2.77555756e-17]\n",
      " [-4.44089210e-16 -5.55111512e-16]\n",
      " [-4.44089210e-16 -6.66133815e-16]\n",
      " [-2.22044605e-16 -1.11022302e-15]\n",
      " [ 2.22044605e-16 -3.33066907e-16]\n",
      " [-8.88178420e-16 -5.55111512e-17]\n",
      " [-4.44089210e-16 -2.77555756e-16]\n",
      " [-2.22044605e-16 -1.08246745e-15]\n",
      " [ 4.44089210e-16 -1.60982339e-15]\n",
      " [ 0.00000000e+00 -4.30211422e-16]\n",
      " [-2.22044605e-16  6.66133815e-16]\n",
      " [ 2.22044605e-16  3.88578059e-16]]\n"
     ]
    }
   ],
   "source": [
    "print(res-xx)"
   ]
  },
  {
   "cell_type": "code",
   "execution_count": 23,
   "metadata": {},
   "outputs": [
    {
     "name": "stdout",
     "output_type": "stream",
     "text": [
      "[ 8.83472329e-16  3.75995698e-01  4.44625587e+00  1.09502112e+01\n",
      "  1.26984566e+01  7.45850692e+00  2.58630947e+00  3.12531487e-01\n",
      "  6.40407395e-03  1.48095445e+00  7.18369117e+00  1.32720738e+01\n",
      "  1.18177208e+01  7.52148507e+00  2.95254220e+00  2.12808890e-01\n",
      "  3.26745092e-03  1.21581518e+00  6.44925115e+00  9.72109767e+00\n",
      "  1.04131199e+01  6.59715835e+00  1.46050654e+00  8.80993756e-02\n",
      "  3.07317381e-03  1.37904928e+00  7.19943782e+00  1.14025588e+01\n",
      "  1.36817979e+01  6.17324447e+00  1.37379312e+00  3.08687260e-03\n",
      "  0.00000000e+00  1.78139635e+00  8.79063545e+00  1.60054855e+01\n",
      "  1.69047481e+01  5.58363257e+00  4.25574692e-01  0.00000000e+00\n",
      "  1.31470553e-02  1.37909666e+00  6.58753104e+00  1.47849954e+01\n",
      "  1.56037752e+01  3.34397877e+00 -1.35603038e+00  1.25525417e-02\n",
      "  6.79381362e-03  4.18839930e-01  3.87713490e+00  1.27623050e+01\n",
      "  1.22905717e+01  1.72530987e+00  1.31583293e-01  2.02845131e-01\n",
      "  1.32621739e-03  3.76651926e-01  5.14164855e+00  1.06098497e+01\n",
      "  7.70095401e+00  2.38272456e+00  1.37261165e+00  4.12321264e-01]\n"
     ]
    },
    {
     "ename": "ValueError",
     "evalue": "cannot reshape array of size 64 into shape (40,40)",
     "output_type": "error",
     "traceback": [
      "\u001b[1;31m---------------------------------------------------------------------------\u001b[0m",
      "\u001b[1;31mValueError\u001b[0m                                Traceback (most recent call last)",
      "\u001b[1;32m<ipython-input-23-621c9f4bc983>\u001b[0m in \u001b[0;36m<module>\u001b[1;34m()\u001b[0m\n\u001b[0;32m      4\u001b[0m \u001b[0mx_restore\u001b[0m \u001b[1;33m=\u001b[0m \u001b[0mnp\u001b[0m\u001b[1;33m.\u001b[0m\u001b[0mdot\u001b[0m\u001b[1;33m(\u001b[0m\u001b[0mf\u001b[0m\u001b[1;33m[\u001b[0m\u001b[1;36m1\u001b[0m\u001b[1;33m]\u001b[0m\u001b[1;33m[\u001b[0m\u001b[1;33m:\u001b[0m\u001b[1;36m2\u001b[0m\u001b[1;33m]\u001b[0m\u001b[1;33m,\u001b[0m \u001b[0mvectors\u001b[0m\u001b[1;33m[\u001b[0m\u001b[1;33m:\u001b[0m\u001b[1;36m2\u001b[0m\u001b[1;33m]\u001b[0m\u001b[1;33m)\u001b[0m \u001b[1;33m+\u001b[0m \u001b[0ma\u001b[0m\u001b[1;33m.\u001b[0m\u001b[0mmean_\u001b[0m\u001b[1;33m\u001b[0m\u001b[0m\n\u001b[0;32m      5\u001b[0m \u001b[0mprint\u001b[0m\u001b[1;33m(\u001b[0m\u001b[0mx_restore\u001b[0m\u001b[1;33m)\u001b[0m\u001b[1;33m\u001b[0m\u001b[0m\n\u001b[1;32m----> 6\u001b[1;33m \u001b[0mplt\u001b[0m\u001b[1;33m.\u001b[0m\u001b[0mimshow\u001b[0m\u001b[1;33m(\u001b[0m\u001b[0mx_restore\u001b[0m\u001b[1;33m.\u001b[0m\u001b[0mreshape\u001b[0m\u001b[1;33m(\u001b[0m\u001b[1;33m(\u001b[0m\u001b[1;36m40\u001b[0m\u001b[1;33m,\u001b[0m\u001b[1;36m40\u001b[0m\u001b[1;33m)\u001b[0m\u001b[1;33m)\u001b[0m\u001b[1;33m)\u001b[0m\u001b[1;33m\u001b[0m\u001b[0m\n\u001b[0m",
      "\u001b[1;31mValueError\u001b[0m: cannot reshape array of size 64 into shape (40,40)"
     ]
    }
   ],
   "source": [
    "pca = PCA(n_components=21)\n",
    "pca.fit(x) \n",
    "\n",
    "x_restore = np.dot(f[1][:2], vectors[:2]) + a.mean_\n",
    "print(x_restore)\n",
    "plt.imshow(x_restore.reshape((40,40)))"
   ]
  },
  {
   "cell_type": "markdown",
   "metadata": {},
   "source": [
    "На основе полученных собственных значений ковариационной матриы $K$ постройте график зависимости покрываемой дисперсии трансформированных данных от количества главных компонент."
   ]
  },
  {
   "cell_type": "markdown",
   "metadata": {},
   "source": [
    "# Интерпретация компонент\n",
    "## Корреляция с исходными признаками\n",
    "Главные компоненты являются линейными кобинациями исходных признаков. В этой связи необходимо оценить связь каждой компоненты с исходными признаками.\n",
    "\n",
    "Рассчет взаимосвязи будем проводить с помощью корреляции Пирсона:\n",
    "\n",
    "\\begin{equation}\n",
    "r_{jk} = \\frac{\\sum_{i=1}^n (x_{ij} - \\bar{x}_j) (x_{ik}' - \\bar{x}_k')}{\\sqrt{\\sum_{i=1}^n (x_{ij} - \\bar{x}_j)^2 \\sum_{i=1}^n (x_{ik}' - \\bar{x}_k')^2}}\n",
    "\\end{equation}\n",
    "\n",
    "где\n",
    "$\\bar{x}_j$ - среднее значение $j$-го признака,\n",
    "$\\bar{x}_k'$ - среднее значение проекции на $k$-ю главную компоненту,\n",
    "$n$ - количество объектов.\n",
    "\n",
    "Отметим, что корреляция Пирсона изменяется от $-1$ до $+1$. Она равна $0$ в случае, когда величины независимы, и $\\pm 1$, если они линейно зависимы.\n",
    "\n",
    "Определите по коэффициентам корреляции, какие признаки в какую компоненту вошли."
   ]
  },
  {
   "cell_type": "code",
   "execution_count": null,
   "metadata": {},
   "outputs": [],
   "source": []
  }
 ],
 "metadata": {
  "kernelspec": {
   "display_name": "Python 3",
   "language": "python",
   "name": "python3"
  },
  "language_info": {
   "codemirror_mode": {
    "name": "ipython",
    "version": 3
   },
   "file_extension": ".py",
   "mimetype": "text/x-python",
   "name": "python",
   "nbconvert_exporter": "python",
   "pygments_lexer": "ipython3",
   "version": "3.7.0"
  }
 },
 "nbformat": 4,
 "nbformat_minor": 2
}
